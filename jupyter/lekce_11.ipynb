{
 "cells": [
  {
   "cell_type": "code",
   "execution_count": 11,
   "metadata": {},
   "outputs": [],
   "source": [
    "# LEKCE 11 (29.11.)\n",
    "\n",
    "# jak nastavit krok osy:\n",
    "\n",
    "# https://stackoverflow.com/questions/12608788/changing-the-tick-frequency-on-the-x-or-y-axis\n",
    "# plt.yticks(range(0, 180, 10))\n",
    "\n",
    "import pandas as pd\n",
    "import matplotlib.pyplot as plt\n",
    "\n",
    "# muzi = pd.Series([\n",
    "#     179.3, 183.7, 181.4, 176.0, 183.6, 184.7, 163.4, 180.3,\n",
    "#     167.5, 166.8, 173.5, 172.5, 173.0, 177.6, 176.0, 179.5,\n",
    "#     182.6, 172.0, 183.2, 177.0, 176.2, 175.7, 174.3, 180.3,\n",
    "#     184.9, 171.1, 182.3, 169.7, 181.3, 188.8, 176.8, 159.0,\n",
    "#     180.3, 198.5, 185.8, 191.0, 170.9, 196.0, 183.3, 183.0,\n",
    "#     189.9, 184.8, 184.0, 183.1, 184.0, 190.7, 191.7, 187.8,\n",
    "#     177.5, 177.5, 189.2, 188.4, 195.0, 204.2, 180.2, 181.3,\n",
    "#     178.2, 182.6, 172.1, 175.7, 180.7, 181.2, 165.0, 188.6\n",
    "# ])\n",
    "# zeny = pd.Series([\n",
    "#     172.0, 169.0, 166.8, 164.6, 172.7, 171.5, 167.0, 167.0,\n",
    "#     168.3, 184.7, 166.0, 160.0, 168.8, 165.8, 173.5, 163.0,\n",
    "#     168.9, 158.4, 166.4, 169.4, 174.2, 175.6, 167.2, 168.0,\n",
    "#     171.5, 168.8, 168.9, 174.1, 169.0, 170.7, 156.3, 174.8,\n",
    "#     169.1, 161.4, 172.5, 166.1, 171.5, 163.9, 164.5, 169.0,\n",
    "#     168.5, 163.3, 169.5, 167.4, 175.5, 165.0, 166.6, 158.9,\n",
    "#     164.5, 168.7, 161.6, 175.8, 179.0, 167.9, 161.1, 167.6,\n",
    "#     165.9, 165.2, 176.0, 179.4, 160.1, 163.8, 177.7, 160.4\n",
    "# ])\n",
    "# vysky = muzi.to_frame(name=\"muži\")\n",
    "# vysky[\"zeny\"] = zeny\n",
    "# vysky.plot(kind=\"box\", whis=[5, 95])\n",
    "# plt.yticks(range(150, 210, 5))\n",
    "# plt.show()\n",
    "\n",
    "# muzi.hist(bins=range(150, 210, 5))\n",
    "# plt.yticks(range(0, 26, 1))\n",
    "# plt.show()"
   ]
  },
  {
   "cell_type": "code",
   "execution_count": 21,
   "metadata": {},
   "outputs": [
    {
     "data": {
      "image/png": "[encoded data removed]",
      "text/plain": [
       "<Figure size 640x480 with 1 Axes>"
      ]
     },
     "metadata": {},
     "output_type": "display_data"
    }
   ],
   "source": [
    "# CVICENI 1\n",
    "# Mějme dvě hrací kostky, kterými vždy hodíme najednou a zaznamenáme součet bodů. Stáhněte si textový soubor kostky.csv, který obsahuje 1000 takových nezávislých hodů.\n",
    "# Načtěte tato data do tabulky a zobrazte histogram hodů. Zvolte vhodné rozložení přihrádek a zodpovězte následující dotazy:\n",
    "# Jaká je nejčastější hodnota, která na dvou kostkách padne?\n",
    "# Je větší šance, že padne hodnota 12 než že padne hodnota 2?\n",
    "hody = pd.read_csv(\"kostky.csv\", sep=',')\n",
    "\n",
    "\n",
    "hody.hist(bins=range(1,3,6))\n",
    "# plt.xlim([0,6])\n",
    "# plt.ylim([0,2000])\n",
    "plt.yticks(range(0, 500, 1000))\n",
    "plt.xticks(range(1, 3, 6))\n",
    "plt.ylabel('Frequency')\n",
    "plt.xlabel('Roll')\n",
    "plt.show()\n",
    "\n"
   ]
  }
 ],
 "metadata": {
  "kernelspec": {
   "display_name": "Python 3",
   "language": "python",
   "name": "python3"
  },
  "language_info": {
   "codemirror_mode": {
    "name": "ipython",
    "version": 3
   },
   "file_extension": ".py",
   "mimetype": "text/x-python",
   "name": "python",
   "nbconvert_exporter": "python",
   "pygments_lexer": "ipython3",
   "version": "3.9.2"
  }
 },
 "nbformat": 4,
 "nbformat_minor": 2
}
