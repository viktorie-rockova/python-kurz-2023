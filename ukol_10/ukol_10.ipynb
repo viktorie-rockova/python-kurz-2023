{
 "cells": [
  {
   "cell_type": "code",
   "execution_count": 3,
   "metadata": {},
   "outputs": [
    {
     "name": "stdout",
     "output_type": "stream",
     "text": [
      "Index(['jmeno', 'prijimeni', 'telefonni_cislo', 'cislo_zamestnance', 'Mesto'], dtype='object')\n",
      "Index(['jmeno', 'prijimeni', 'telefonni_cislo', 'cislo_zamestnance', 'Mesto'], dtype='object')\n",
      "Index(['jmeno', 'prijimeni', 'telefonni_cislo', 'cislo_zamestnance', 'Mesto'], dtype='object')\n"
     ]
    }
   ],
   "source": [
    "# ZADANI 1\n",
    "# Uvažuj, že zpracováváš analýzu pro softwarovou firmu. Firma má kanceláře v Praze, Plzni a Liberci. Seznam zaměstnanců pro jednotlivé kanceláře najdeš v souborech zam_praha.csv, zam_plzeň.csv a zam_liberec.csv.\n",
    "# Načti data o zaměstnancích z CSV souborů do tabulek (DataFrame). Ke každé tabulce přidej nový sloupec mesto, které bude obsahovat informaci o tom, ve kterém městě zaměstnanec pracuje.\n",
    "\n",
    "import pandas as pd\n",
    "\n",
    "liberec = pd.read_csv(\"zam_liberec.csv\", sep=',')\n",
    "plzen = pd.read_csv(\"zam_plzeň.csv\", sep=',')\n",
    "praha = pd.read_csv(\"zam_praha.csv\", sep=',')\n",
    "\n",
    "liberec[\"Mesto\"] = \"Liberec\"\n",
    "plzen[\"Mesto\"] = \"Plzen\"\n",
    "praha[\"Mesto\"] = \"Praha\"\n",
    "\n",
    "print(liberec.columns)\n",
    "print(plzen.columns)\n",
    "print(praha.columns)"
   ]
  },
  {
   "cell_type": "code",
   "execution_count": 5,
   "metadata": {},
   "outputs": [
    {
     "data": {
      "text/plain": [
       "<bound method NDFrame.head of           jmeno    prijimeni   telefonni_cislo  cislo_zamestnance    Mesto\n",
       "0          Nela      Šťastná       728 454 176                 83  Liberec\n",
       "1       Heather      Marková       604 404 522                 84  Liberec\n",
       "2        Krista  Procházková  +421 50 444 5544                 85  Liberec\n",
       "3      Jennifer        Brown       775 545 190                 86  Liberec\n",
       "4     Ladislava    Blackwell  +421 913 487 200                 87  Liberec\n",
       "5        Robert       Macias  +421 49 929 6856                 88  Liberec\n",
       "6          Dana        Reyes  +421 904 153 942                 90  Liberec\n",
       "7         Vasyl       Veselý       603 759 413                 92  Liberec\n",
       "8         Randy       Veselý       777 149 125                 95  Liberec\n",
       "9        Audrey        Allen  +421 908 839 506                 96  Liberec\n",
       "10         Ivan       Bartoš       603 226 051                 99  Liberec\n",
       "11        Stacy  Pospíšilová       727 293 880                  3    Plzen\n",
       "12        Matěj         Král       770 787 377                  6    Plzen\n",
       "13       Amanda       Wilson  +421 52 656 7231                  7    Plzen\n",
       "14        Angel       Wilson  +421 52 135 2491                  8    Plzen\n",
       "15     Jindřich       Howell  +421 39 043 0948                 10    Plzen\n",
       "16    Alexander     Martinez       721 195 689                 13    Plzen\n",
       "17        Radim      Kopecký  +421 917 371 226                 16    Plzen\n",
       "18     Miroslav         Reed       774 829 074                 18    Plzen\n",
       "19       Emilie       Powell       731 380 539                 21    Plzen\n",
       "20       Nikola         Wade       726 763 154                 22    Plzen\n",
       "21    Katherine         Reed       726 214 968                 23    Plzen\n",
       "22        Kayla     Urbanová       737 772 985                 24    Plzen\n",
       "23        Roman       Moreno       722 284 985                 26    Plzen\n",
       "24     Bohumila        Smith       608 121 912                 27    Plzen\n",
       "25      Blažena        Smith  +421 51 828 2591                 28    Plzen\n",
       "26      Phillip         Malý       731 594 560                 29    Plzen\n",
       "27        Brian         Hall  +421 949 656 098                 30    Praha\n",
       "28        Marta     Kolářová       730 456 163                 32    Praha\n",
       "29         John      Moravec       725 092 179                 33    Praha\n",
       "30     Dominika      Kopecká       722 747 626                 34    Praha\n",
       "31       Marcel        Hájek  +421 902 928 669                 35    Praha\n",
       "32       Milada    Hernandez       773 373 704                 38    Praha\n",
       "33    Catherine       Bender       604 068 460                 40    Praha\n",
       "34         Olga      Němcová  +421 914 172 243                 41    Praha\n",
       "35      Jeffrey      Šťastný       607 628 821                 44    Praha\n",
       "36       Kamila       Říhová  +421 948 396 069                 47    Praha\n",
       "37      Jaromír       Miller  +421 912 615 902                 49    Praha\n",
       "38  Christopher        Zeman  +421 948 150 084                 51    Praha\n",
       "39     Karolína        Short       721 589 083                 53    Praha\n",
       "40     Michelle      Vlčková  +421 41 720 7806                 54    Praha\n",
       "41      Jeffrey     Pospíšil  +421 55 491 6940                 56    Praha\n",
       "42     Ladislav       Blažek  +421 910 274 975                 57    Praha\n",
       "43         John       Bailey       775 021 116                 58    Praha\n",
       "44      William      Shelton  +421 47 745 8219                 60    Praha\n",
       "45    Miroslava       Veselá       774 029 254                 62    Praha\n",
       "46      William    Alexander  +421 949 106 724                 63    Praha\n",
       "47     Kimberly         Bass  +421 912 169 840                 64    Praha\n",
       "48       Nathan      Svoboda       728 710 923                 66    Praha\n",
       "49        Luděk       Bartoš  +421 940 700 326                 69    Praha\n",
       "50       Dillon        Black       734 300 978                 70    Praha\n",
       "51       Robert         Říha       727 351 984                 72    Praha\n",
       "52        Steve        Šimek       604 966 101                 74    Praha\n",
       "53      Theresa     Kučerová  +421 48 528 0081                 76    Praha\n",
       "54        Marta       Butler  +421 944 196 827                 78    Praha\n",
       "55     Samantha    Kadlecová  +421 904 841 543                 80    Praha>"
      ]
     },
     "execution_count": 5,
     "metadata": {},
     "output_type": "execute_result"
    }
   ],
   "source": [
    "# Vytvoř novou tabulku zamestnanci a ulož do ní informace o všech zaměstnancích (operace concat).\n",
    "zamestnanci = pd.concat([liberec, plzen, praha], ignore_index=True)\n",
    "zamestnanci.head"
   ]
  },
  {
   "cell_type": "code",
   "execution_count": 17,
   "metadata": {},
   "outputs": [
    {
     "name": "stdout",
     "output_type": "stream",
     "text": [
      "       jmeno    prijimeni   telefonni_cislo  cislo_zamestnance    Mesto  \\\n",
      "0       Nela      Šťastná       728 454 176                 83  Liberec   \n",
      "1    Heather      Marková       604 404 522                 84  Liberec   \n",
      "2     Krista  Procházková  +421 50 444 5544                 85  Liberec   \n",
      "3   Jennifer        Brown       775 545 190                 86  Liberec   \n",
      "4  Ladislava    Blackwell  +421 913 487 200                 87  Liberec   \n",
      "\n",
      "      plat  \n",
      "0  46500.0  \n",
      "1  38600.0  \n",
      "2  44200.0  \n",
      "3      NaN  \n",
      "4  49900.0  \n"
     ]
    }
   ],
   "source": [
    "# Ze souboru platy_2021_02.csv načti platy zaměstnanců za únor 2021. Propoj tabulku (operace join) s platy a tabulku se zaměstnanci pomocí sloupce cislo_zamestnance.\n",
    "platy = pd.read_csv(\"platy_2021_02.csv\")\n",
    "# platy.head\n",
    "platy_propojeni = pd.merge(zamestnanci, platy, how=\"outer\")\n",
    "print(platy_propojeni.head())"
   ]
  },
  {
   "cell_type": "code",
   "execution_count": 18,
   "metadata": {},
   "outputs": [
    {
     "name": "stdout",
     "output_type": "stream",
     "text": [
      "(43, 2)\n",
      "(56, 6)\n"
     ]
    }
   ],
   "source": [
    "# Porovnej rozměry tabulek před spojením a po spojení. Pokud nemá některý zaměstnanec plat za únor, znamená to, že v naší firmě již nepracuje.\n",
    "print(platy.shape)\n",
    "print(platy_propojeni.shape)"
   ]
  },
  {
   "cell_type": "code",
   "execution_count": 19,
   "metadata": {},
   "outputs": [
    {
     "name": "stdout",
     "output_type": "stream",
     "text": [
      "Mesto\n",
      "Liberec    43775.000000\n",
      "Plzen      44792.857143\n",
      "Praha      43295.238095\n",
      "Name: plat, dtype: float64\n"
     ]
    }
   ],
   "source": [
    "# Spočti průměrný plat zaměstnanců v jednotlivých kancelářích.\n",
    "print(platy_propojeni.groupby('Mesto')['plat'].mean())"
   ]
  },
  {
   "cell_type": "code",
   "execution_count": 20,
   "metadata": {},
   "outputs": [],
   "source": [
    "# ZADANI 2\n",
    "# Pokračuj ve své práci pro softwarovou firmu. Ze souboru vykazy.csv načti informace o výkazech na projekty pro jednoho vybraného zákazníka.\n",
    "# Načti data ze souboru a ulož je do tabulky.\n",
    "vykazy = pd.read_csv(\"vykazy.csv\")\n",
    "# vykazy.head"
   ]
  },
  {
   "cell_type": "code",
   "execution_count": 13,
   "metadata": {},
   "outputs": [
    {
     "name": "stdout",
     "output_type": "stream",
     "text": [
      "project\n",
      "F30    21.5\n",
      "JL9     2.1\n",
      "TE1    16.0\n",
      "W05    30.5\n",
      "YLI    31.0\n",
      "Name: hours, dtype: float64\n"
     ]
    }
   ],
   "source": [
    "# Proveď agregaci a zjisti celkový počet vykázaných hodin za jednotlivé projekty.\n",
    "print(vykazy.groupby('project')['hours'].sum())"
   ]
  }
 ],
 "metadata": {
  "kernelspec": {
   "display_name": "Python 3",
   "language": "python",
   "name": "python3"
  },
  "language_info": {
   "codemirror_mode": {
    "name": "ipython",
    "version": 3
   },
   "file_extension": ".py",
   "mimetype": "text/x-python",
   "name": "python",
   "nbconvert_exporter": "python",
   "pygments_lexer": "ipython3",
   "version": "3.9.2"
  }
 },
 "nbformat": 4,
 "nbformat_minor": 2
}
