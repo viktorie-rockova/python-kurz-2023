{
 "cells": [
  {
   "cell_type": "code",
   "execution_count": 19,
   "metadata": {},
   "outputs": [],
   "source": [
    "import pandas as pd\n",
    "\n",
    "liberec = pd.read_csv(\"zam_liberec.csv\", sep=',')\n",
    "plzen = pd.read_csv(\"zam_plzeň.csv\", sep=',')\n",
    "praha = pd.read_csv(\"zam_praha.csv\", sep=',')\n",
    "platy = pd.read_csv(\"platy_2021_02.csv\")\n",
    "\n",
    "liberec[\"Mesto\"] = \"Liberec\"\n",
    "plzen[\"Mesto\"] = \"Plzen\"\n",
    "praha[\"Mesto\"] = \"Praha\"\n",
    "\n",
    "zamestnanci = pd.concat([liberec, plzen, praha], ignore_index=True)\n",
    "\n",
    "platy_propojeni = pd.merge(zamestnanci, platy, how=\"outer\")"
   ]
  },
  {
   "cell_type": "code",
   "execution_count": 20,
   "metadata": {},
   "outputs": [
    {
     "name": "stdout",
     "output_type": "stream",
     "text": [
      "        jmeno prijimeni   telefonni_cislo  cislo_zamestnance    Mesto  plat\n",
      "3    Jennifer     Brown       775 545 190                 86  Liberec   NaN\n",
      "5      Robert    Macias  +421 49 929 6856                 88  Liberec   NaN\n",
      "10       Ivan    Bartoš       603 226 051                 99  Liberec   NaN\n",
      "15   Jindřich    Howell  +421 39 043 0948                 10    Plzen   NaN\n",
      "16  Alexander  Martinez       721 195 689                 13    Plzen   NaN\n",
      "31     Marcel     Hájek  +421 902 928 669                 35    Praha   NaN\n",
      "39   Karolína     Short       721 589 083                 53    Praha   NaN\n",
      "40   Michelle   Vlčková  +421 41 720 7806                 54    Praha   NaN\n",
      "43       John    Bailey       775 021 116                 58    Praha   NaN\n",
      "44    William   Shelton  +421 47 745 8219                 60    Praha   NaN\n",
      "45  Miroslava    Veselá       774 029 254                 62    Praha   NaN\n",
      "48     Nathan   Svoboda       728 710 923                 66    Praha   NaN\n",
      "51     Robert      Říha       727 351 984                 72    Praha   NaN\n"
     ]
    }
   ],
   "source": [
    "# Nepovinný bonus 1\n",
    "# Ulož do proměnné počet zaměstnanců, kteří v naší firmě již nepracují.\n",
    "byvali_zamestnanci = platy_propojeni[platy_propojeni[\"plat\"].isnull()]\n",
    "print(byvali_zamestnanci)"
   ]
  },
  {
   "cell_type": "code",
   "execution_count": 23,
   "metadata": {},
   "outputs": [],
   "source": [
    "# V rámci úspory se IT oddělení rozhodlo prověřit licence přidělené zaměstnancům, kteří ve firmě již nepracují. Vytvoř samostatnou tabulku, která obsahuje jména zaměstnanců, kteří ve firmě již nepracují.\n",
    "# Tabulku ulož do souboru CSV.\n",
    "byvali_zamestnanci.to_csv('byvali_zamestnanci.csv')\n"
   ]
  },
  {
   "cell_type": "code",
   "execution_count": 37,
   "metadata": {},
   "outputs": [
    {
     "name": "stdout",
     "output_type": "stream",
     "text": [
      "       jmeno prijimeni   telefonni_cislo  cislo_zamestnance    Mesto  plat  \\\n",
      "0   Jennifer     Brown       775 545 190                 86  Liberec   NaN   \n",
      "1   Jennifer     Brown       775 545 190                 86  Liberec   NaN   \n",
      "2   Jindřich    Howell  +421 39 043 0948                 10    Plzen   NaN   \n",
      "3  Alexander  Martinez       721 195 689                 13    Plzen   NaN   \n",
      "4   Karolína     Short       721 589 083                 53    Praha   NaN   \n",
      "\n",
      "         date  hours project  \n",
      "0  2021-02-03    4.6     TE1  \n",
      "1  2021-02-03    5.4     YLI  \n",
      "2  2021-02-02    5.3     YLI  \n",
      "3  2021-02-01    2.5     F30  \n",
      "4  2021-02-02    5.6     F30  \n",
      "Mesto    project\n",
      "Liberec  TE1        4.6\n",
      "         YLI        5.4\n",
      "Plzen    F30        2.5\n",
      "         YLI        5.3\n",
      "Praha    F30        5.6\n",
      "         JL9        2.1\n",
      "         TE1        2.4\n",
      "         W05        4.0\n",
      "         YLI        3.6\n",
      "Name: hours, dtype: float64\n"
     ]
    }
   ],
   "source": [
    "# Nepovinný bonus 2\n",
    "# Propoj tabulku s výkazy s tabulkou se zaměstnanci, kterou jsi vytvořil(a) v předchozím cvičení.\n",
    "# Následně proveď statistiku vykázaných hodin za jednotlivé kanceláře, tj. spočítej celkový počet hodin vykázaný zaměstnanci jednotlivých kanceláří na projekty daného zákazníka.\n",
    "vykazy = pd.read_csv(\"vykazy.csv\")\n",
    "vykazy = vykazy.rename(columns={'emloyee_id': 'cislo_zamestnance'})\n",
    "byvali_zamestnanci_propojeni = pd.merge(byvali_zamestnanci, vykazy, how=\"inner\")\n",
    "print(byvali_zamestnanci_propojeni.head())\n",
    "\n",
    "print(byvali_zamestnanci_propojeni.groupby(['Mesto', 'project'])['hours'].sum())\n",
    "\n"
   ]
  }
 ],
 "metadata": {
  "kernelspec": {
   "display_name": "Python 3",
   "language": "python",
   "name": "python3"
  },
  "language_info": {
   "codemirror_mode": {
    "name": "ipython",
    "version": 3
   },
   "file_extension": ".py",
   "mimetype": "text/x-python",
   "name": "python",
   "nbconvert_exporter": "python",
   "pygments_lexer": "ipython3",
   "version": "3.9.2"
  }
 },
 "nbformat": 4,
 "nbformat_minor": 2
}
