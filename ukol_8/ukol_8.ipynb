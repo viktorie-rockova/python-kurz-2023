{
 "cells": [
  {
   "cell_type": "code",
   "execution_count": 6,
   "metadata": {},
   "outputs": [
    {
     "data": {
      "text/plain": [
       "(513, 6)"
      ]
     },
     "execution_count": 6,
     "metadata": {},
     "output_type": "execute_result"
    }
   ],
   "source": [
    "# Kolik ma tabulka radku a kolik sloupcu?\n",
    "import pandas as pd\n",
    "\n",
    "adopce = pd.read_csv(\"adopce-zvirat.txt\", sep=';')\n",
    "\n",
    "adopce.shape"
   ]
  },
  {
   "cell_type": "code",
   "execution_count": 10,
   "metadata": {},
   "outputs": [
    {
     "name": "stdout",
     "output_type": "stream",
     "text": [
      "['id', 'nazev_cz', 'nazev_en', 'trida_cz', 'cena', 'k_prohlidce']\n"
     ]
    }
   ],
   "source": [
    "# Jak se jmenuji sloupce tabulky?\n",
    "nazvy_sloupcu = list(adopce.columns.values)\n",
    "print(nazvy_sloupcu)"
   ]
  },
  {
   "cell_type": "code",
   "execution_count": 4,
   "metadata": {},
   "outputs": [
    {
     "name": "stdout",
     "output_type": "stream",
     "text": [
      "     nazev_cz    nazev_en\n",
      "34  Ibis bílý  White ibis\n"
     ]
    }
   ],
   "source": [
    "#  Které zvíře se nachází na záznamu s indexem 34? Vypiš název tohoto zvířete v češtině a v angličtině.\n",
    "print(adopce.loc[[34], ['nazev_cz', 'nazev_en']])"
   ]
  }
 ],
 "metadata": {
  "kernelspec": {
   "display_name": "Python 3",
   "language": "python",
   "name": "python3"
  },
  "language_info": {
   "codemirror_mode": {
    "name": "ipython",
    "version": 3
   },
   "file_extension": ".py",
   "mimetype": "text/x-python",
   "name": "python",
   "nbconvert_exporter": "python",
   "pygments_lexer": "ipython3",
   "version": "3.7.1"
  }
 },
 "nbformat": 4,
 "nbformat_minor": 2
}
