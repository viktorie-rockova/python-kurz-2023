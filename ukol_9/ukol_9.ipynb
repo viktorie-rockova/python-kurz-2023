{
 "cells": [
  {
   "cell_type": "code",
   "execution_count": 1,
   "metadata": {},
   "outputs": [],
   "source": [
    "# Úkol můžeš odevzdat buďto jako Jupyter Notebook .ipynb, nebo jako klasický program .py.\n",
    "\n",
    "# Stáhni si soubor temperature.csv, který obsahuje informace o průměrné teplotě v různých městech v listopadu 2017.\n",
    "\n",
    "# Vypiš si prvních několik řádků, ať si prohlédneš strukturu tabulky.\n",
    "\n",
    "# Dále napiš následující dotazy:\n",
    "\n",
    "# Dotaz na měření, která byla provedena v Praze. Je na datech něco zvláštního? Napadá tě, čím to může být? Zde je nápověda.\n",
    "# Dotaz na měření, ve kterých je teplota (sloupec AvgTemperature) vyšší než 80 stupňů.\n",
    "# Dotaz na měření, ve kterých je teplota vyšší než 60 stupňů a současně bylo měření provedeno v regionu (sloupec Region) Evropa (Europe).\n",
    "# Dotaz na extrémní hodnoty, tj. měření, ve kterých je teplota vyšší než 80 stupňů nebo menší než -20 stupňů.\n"
   ]
  },
  {
   "cell_type": "code",
   "execution_count": 4,
   "metadata": {},
   "outputs": [
    {
     "data": {
      "text/plain": [
       "<bound method NDFrame.head of              Region  Country      City  Day  AvgTemperature\n",
       "0            Africa  Algeria   Algiers    1            62.0\n",
       "1            Africa  Algeria   Algiers    2            62.2\n",
       "2            Africa  Algeria   Algiers    3            65.7\n",
       "3            Africa  Algeria   Algiers    4            69.8\n",
       "4            Africa  Algeria   Algiers    5            63.8\n",
       "...             ...      ...       ...  ...             ...\n",
       "8785  North America       US  Cheyenne   26            51.7\n",
       "8786  North America       US  Cheyenne   27            55.5\n",
       "8787  North America       US  Cheyenne   28            38.5\n",
       "8788  North America       US  Cheyenne   29            36.8\n",
       "8789  North America       US  Cheyenne   30            36.9\n",
       "\n",
       "[8790 rows x 5 columns]>"
      ]
     },
     "execution_count": 4,
     "metadata": {},
     "output_type": "execute_result"
    }
   ],
   "source": [
    "import pandas as pd\n",
    "\n",
    "temperature = pd.read_csv(\"temperature.csv\", sep=',')\n",
    "\n",
    "temperature.shape\n",
    "temperature.head"
   ]
  },
  {
   "cell_type": "code",
   "execution_count": 5,
   "metadata": {},
   "outputs": [
    {
     "name": "stdout",
     "output_type": "stream",
     "text": [
      "      Region         Country    City  Day  AvgTemperature\n",
      "2100  Europe  Czech Republic  Prague    1            43.5\n",
      "2101  Europe  Czech Republic  Prague    2            48.5\n",
      "2102  Europe  Czech Republic  Prague    3            44.4\n",
      "2103  Europe  Czech Republic  Prague    4            39.7\n",
      "2104  Europe  Czech Republic  Prague    5            40.6\n",
      "2105  Europe  Czech Republic  Prague    6            42.3\n",
      "2106  Europe  Czech Republic  Prague    7            43.5\n",
      "2107  Europe  Czech Republic  Prague    8            41.4\n",
      "2108  Europe  Czech Republic  Prague    9            43.8\n",
      "2109  Europe  Czech Republic  Prague   10            43.0\n",
      "2110  Europe  Czech Republic  Prague   11            39.5\n",
      "2111  Europe  Czech Republic  Prague   12            36.7\n",
      "2112  Europe  Czech Republic  Prague   13            35.8\n",
      "2113  Europe  Czech Republic  Prague   14            35.5\n",
      "2114  Europe  Czech Republic  Prague   15            39.1\n",
      "2115  Europe  Czech Republic  Prague   16            38.5\n",
      "2116  Europe  Czech Republic  Prague   17            36.6\n",
      "2117  Europe  Czech Republic  Prague   18            37.0\n",
      "2118  Europe  Czech Republic  Prague   19            37.5\n",
      "2119  Europe  Czech Republic  Prague   20            37.0\n",
      "2120  Europe  Czech Republic  Prague   21            41.3\n",
      "2121  Europe  Czech Republic  Prague   22            44.6\n",
      "2122  Europe  Czech Republic  Prague   23            41.8\n",
      "2123  Europe  Czech Republic  Prague   24            46.2\n",
      "2124  Europe  Czech Republic  Prague   25            43.3\n",
      "2125  Europe  Czech Republic  Prague   26            34.6\n",
      "2126  Europe  Czech Republic  Prague   27            36.1\n",
      "2127  Europe  Czech Republic  Prague   28            39.3\n",
      "2128  Europe  Czech Republic  Prague   29            36.9\n",
      "2129  Europe  Czech Republic  Prague   30            33.7\n"
     ]
    }
   ],
   "source": [
    "# Mereni pouze v Praze: rozdeleni 1 sloupce na 5 sloupcu\n",
    "print(temperature[temperature[\"City\"] == 'Prague'])"
   ]
  },
  {
   "cell_type": "code",
   "execution_count": 6,
   "metadata": {},
   "outputs": [
    {
     "name": "stdout",
     "output_type": "stream",
     "text": [
      "             Region Country             City  Day  AvgTemperature\n",
      "30           Africa   Benin          Cotonou    1            81.7\n",
      "31           Africa   Benin          Cotonou    2            81.8\n",
      "32           Africa   Benin          Cotonou    3            83.6\n",
      "33           Africa   Benin          Cotonou    4            83.4\n",
      "34           Africa   Benin          Cotonou    5            80.3\n",
      "...             ...     ...              ...  ...             ...\n",
      "8011  North America      US      Brownsville    2            80.8\n",
      "8012  North America      US      Brownsville    3            81.1\n",
      "8015  North America      US      Brownsville    6            80.5\n",
      "8042  North America      US   Corpus Christi    3            80.2\n",
      "8074  North America      US  Dallas Ft Worth    5            80.1\n",
      "\n",
      "[722 rows x 5 columns]\n"
     ]
    }
   ],
   "source": [
    "#  Dotaz na měření, ve kterých je teplota (sloupec AvgTemperature) vyšší než 80 stupňů.\n",
    "print(temperature[temperature[\"AvgTemperature\"] > 80])"
   ]
  },
  {
   "cell_type": "code",
   "execution_count": 7,
   "metadata": {},
   "outputs": [
    {
     "name": "stdout",
     "output_type": "stream",
     "text": [
      "      Region   Country       City  Day  AvgTemperature\n",
      "1932  Europe   Albania     Tirana   13            60.3\n",
      "2402  Europe     Italy       Rome    3            62.2\n",
      "2404  Europe     Italy       Rome    5            60.4\n",
      "2580  Europe  Portugal     Lisbon    1            62.5\n",
      "2581  Europe  Portugal     Lisbon    2            63.2\n",
      "2582  Europe  Portugal     Lisbon    3            61.1\n",
      "2583  Europe  Portugal     Lisbon    4            61.6\n",
      "2602  Europe  Portugal     Lisbon   23            64.2\n",
      "2603  Europe  Portugal     Lisbon   24            62.6\n",
      "2701  Europe     Spain  Barcelona    2            63.8\n",
      "2702  Europe     Spain  Barcelona    3            63.1\n",
      "2703  Europe     Spain  Barcelona    4            63.5\n",
      "2704  Europe     Spain  Barcelona    5            61.6\n",
      "2730  Europe     Spain     Bilbao    1            62.9\n",
      "2731  Europe     Spain     Bilbao    2            66.3\n",
      "2732  Europe     Spain     Bilbao    3            63.8\n",
      "2751  Europe     Spain     Bilbao   22            62.7\n",
      "2752  Europe     Spain     Bilbao   23            69.5\n",
      "2753  Europe     Spain     Bilbao   24            62.5\n"
     ]
    }
   ],
   "source": [
    "# Dotaz na měření, ve kterých je teplota vyšší než 60 stupňů a současně bylo měření provedeno v regionu (sloupec Region) Evropa (Europe).\n",
    "print(temperature[(temperature[\"Region\"] == \"Europe\") & (temperature[\"AvgTemperature\"] > 60)])"
   ]
  },
  {
   "cell_type": "code",
   "execution_count": 8,
   "metadata": {},
   "outputs": [
    {
     "name": "stdout",
     "output_type": "stream",
     "text": [
      "             Region Country             City  Day  AvgTemperature\n",
      "30           Africa   Benin          Cotonou    1            81.7\n",
      "31           Africa   Benin          Cotonou    2            81.8\n",
      "32           Africa   Benin          Cotonou    3            83.6\n",
      "33           Africa   Benin          Cotonou    4            83.4\n",
      "34           Africa   Benin          Cotonou    5            80.3\n",
      "...             ...     ...              ...  ...             ...\n",
      "8011  North America      US      Brownsville    2            80.8\n",
      "8012  North America      US      Brownsville    3            81.1\n",
      "8015  North America      US      Brownsville    6            80.5\n",
      "8042  North America      US   Corpus Christi    3            80.2\n",
      "8074  North America      US  Dallas Ft Worth    5            80.1\n",
      "\n",
      "[772 rows x 5 columns]\n"
     ]
    }
   ],
   "source": [
    "# Dotaz na extrémní hodnoty, tj. měření, ve kterých je teplota vyšší než 80 stupňů nebo menší než -20 stupňů.\n",
    "print(temperature[(temperature[\"AvgTemperature\"] < -20) | (temperature[\"AvgTemperature\"] > 80)])"
   ]
  }
 ],
 "metadata": {
  "kernelspec": {
   "display_name": "Python 3",
   "language": "python",
   "name": "python3"
  },
  "language_info": {
   "codemirror_mode": {
    "name": "ipython",
    "version": 3
   },
   "file_extension": ".py",
   "mimetype": "text/x-python",
   "name": "python",
   "nbconvert_exporter": "python",
   "pygments_lexer": "ipython3",
   "version": "3.9.2"
  }
 },
 "nbformat": 4,
 "nbformat_minor": 2
}
