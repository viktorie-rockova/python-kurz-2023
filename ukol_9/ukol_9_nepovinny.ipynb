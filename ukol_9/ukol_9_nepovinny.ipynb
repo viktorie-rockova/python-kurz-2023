{
 "cells": [
  {
   "cell_type": "code",
   "execution_count": 22,
   "metadata": {},
   "outputs": [
    {
     "data": {
      "text/plain": [
       "Index(['Region', 'Country', 'City', 'Day', 'AvgTemperature',\n",
       "       'AvgTemperatureCelsia'],\n",
       "      dtype='object')"
      ]
     },
     "execution_count": 22,
     "metadata": {},
     "output_type": "execute_result"
    }
   ],
   "source": [
    "# NEPOVINNY 1\n",
    "# Nainstaluj si modul pytemperature a zkus si vytvořit nový sloupec, který bude obsahovat průměrnou templotu ve stupních Celsia.\n",
    "\n",
    "# Ve svém programu nejprve proveď import modulu pytemperature. Nový sloupec pak přidáš do tabulky tak, že nalevo od = vložíš tabulku\n",
    "# a název nového sloupce do hranatých závorek. Napravo pak můžeš provádět výpočty # pomocí již existujících sloupců.\n",
    "# Můžeš např. použít funkci f2c z modulu pytemperature, která převede teplotu ze stupňů Fahrenheita na stupně Celsia.\n",
    "\n",
    "import pytemperature\n",
    "\n",
    "import pandas as pd\n",
    "\n",
    "temperature = pd.read_csv(\"temperature.csv\", sep=',')\n",
    "\n",
    "temperature[\"AvgTemperatureCelsia\"] = pytemperature.f2c(temperature[\"AvgTemperature\"])\n",
    "temperature.columns\n",
    "\n",
    "# Nyní můžeš zpracovat následující příklady:"
   ]
  },
  {
   "cell_type": "code",
   "execution_count": 23,
   "metadata": {},
   "outputs": [
    {
     "name": "stdout",
     "output_type": "stream",
     "text": [
      "                                 Region     Country             City  Day  \\\n",
      "421                              Africa  Mauritania       Nouakchott    2   \n",
      "430                              Africa  Mauritania       Nouakchott   11   \n",
      "510                              Africa     Nigeria           Niamey    1   \n",
      "526                              Africa     Nigeria           Niamey   17   \n",
      "527                              Africa     Nigeria           Niamey   18   \n",
      "528                              Africa     Nigeria           Niamey   19   \n",
      "930                                Asia       India  Bombay (Mumbai)    1   \n",
      "931                                Asia       India  Bombay (Mumbai)    2   \n",
      "935                                Asia       India  Bombay (Mumbai)    6   \n",
      "1247                               Asia        Laos        Vientiane   18   \n",
      "3990  South/Central America & Carribean       Haiti   Port au Prince    1   \n",
      "4111  South/Central America & Carribean    Suriname       Paramaribo    2   \n",
      "\n",
      "      AvgTemperature  AvgTemperatureCelsia  \n",
      "421             87.4                 30.78  \n",
      "430             87.1                 30.61  \n",
      "510             86.9                 30.50  \n",
      "526             86.3                 30.17  \n",
      "527             86.6                 30.33  \n",
      "528             86.6                 30.33  \n",
      "930             86.6                 30.33  \n",
      "931             86.4                 30.22  \n",
      "935             86.8                 30.44  \n",
      "1247            86.3                 30.17  \n",
      "3990            86.1                 30.06  \n",
      "4111            88.0                 31.11  \n"
     ]
    }
   ],
   "source": [
    "# Dotaz na měření, ve kterých je teplota (sloupec AvgTemperatureCelsia) vyšší než 30 stupňů Celsia.\n",
    "print(temperature[temperature[\"AvgTemperatureCelsia\"] > 30])"
   ]
  },
  {
   "cell_type": "code",
   "execution_count": 24,
   "metadata": {},
   "outputs": [
    {
     "name": "stdout",
     "output_type": "stream",
     "text": [
      "      Region     Country      City  Day  AvgTemperature  AvgTemperatureCelsia\n",
      "1920  Europe     Albania    Tirana    1            47.6                  8.67\n",
      "1921  Europe     Albania    Tirana    2            48.1                  8.94\n",
      "1922  Europe     Albania    Tirana    3            51.0                 10.56\n",
      "1923  Europe     Albania    Tirana    4            52.3                 11.28\n",
      "1924  Europe     Albania    Tirana    5            51.7                 10.94\n",
      "...      ...         ...       ...  ...             ...                   ...\n",
      "3025  Europe  Yugoslavia  Belgrade   26            43.3                  6.28\n",
      "3026  Europe  Yugoslavia  Belgrade   27            35.9                  2.17\n",
      "3027  Europe  Yugoslavia  Belgrade   28            32.5                  0.28\n",
      "3028  Europe  Yugoslavia  Belgrade   29            38.4                  3.56\n",
      "3029  Europe  Yugoslavia  Belgrade   30            43.4                  6.33\n",
      "\n",
      "[1110 rows x 6 columns]\n"
     ]
    }
   ],
   "source": [
    "# Dotaz na měření, ve kterých je teplota vyšší než 15 stupňů Celsia a současně bylo měření provedeno v regionu (sloupec Region) Evropa (Europe).\n",
    "print(temperature[(temperature[\"Region\"] == \"Europe\") & (temperature[\"AvgTemperature\"] > 15)])"
   ]
  },
  {
   "cell_type": "code",
   "execution_count": 25,
   "metadata": {},
   "outputs": [
    {
     "name": "stdout",
     "output_type": "stream",
     "text": [
      "             Region  Country      City  Day  AvgTemperature  \\\n",
      "0            Africa  Algeria   Algiers    1            62.0   \n",
      "1            Africa  Algeria   Algiers    2            62.2   \n",
      "2            Africa  Algeria   Algiers    3            65.7   \n",
      "3            Africa  Algeria   Algiers    4            69.8   \n",
      "4            Africa  Algeria   Algiers    5            63.8   \n",
      "...             ...      ...       ...  ...             ...   \n",
      "8785  North America       US  Cheyenne   26            51.7   \n",
      "8786  North America       US  Cheyenne   27            55.5   \n",
      "8787  North America       US  Cheyenne   28            38.5   \n",
      "8788  North America       US  Cheyenne   29            36.8   \n",
      "8789  North America       US  Cheyenne   30            36.9   \n",
      "\n",
      "      AvgTemperatureCelsia  \n",
      "0                    16.67  \n",
      "1                    16.78  \n",
      "2                    18.72  \n",
      "3                    21.00  \n",
      "4                    17.67  \n",
      "...                    ...  \n",
      "8785                 10.94  \n",
      "8786                 13.06  \n",
      "8787                  3.61  \n",
      "8788                  2.67  \n",
      "8789                  2.72  \n",
      "\n",
      "[8344 rows x 6 columns]\n"
     ]
    }
   ],
   "source": [
    "# Dotaz na extrémní hodnoty, tj. měření, ve kterých je teplota vyšší než 30 stupňů Celsia nebo menší než -10 stupňů.\n",
    "# Jsou některé hodnoty podezřelé?\n",
    "print(temperature[(temperature[\"AvgTemperature\"] < -10) | (temperature[\"AvgTemperature\"] > 30)])"
   ]
  },
  {
   "cell_type": "code",
   "execution_count": 26,
   "metadata": {},
   "outputs": [],
   "source": [
    "# NEPOVINNY 2\n",
    "# Napiš následující dotazy, hodnoty mohou byt v C nebo F:"
   ]
  },
  {
   "cell_type": "code",
   "execution_count": 27,
   "metadata": {},
   "outputs": [
    {
     "name": "stdout",
     "output_type": "stream",
     "text": [
      "             Region                   Country         City  Day  \\\n",
      "12           Africa                   Algeria      Algiers   13   \n",
      "42           Africa                     Benin      Cotonou   13   \n",
      "72           Africa  Central African Republic       Bangui   13   \n",
      "102          Africa                     Congo  Brazzaville   13   \n",
      "132          Africa                     Egypt        Cairo   13   \n",
      "...             ...                       ...          ...  ...   \n",
      "8652  North America                        US    Green Bay   13   \n",
      "8682  North America                        US      Madison   13   \n",
      "8712  North America                        US    Milwaukee   13   \n",
      "8742  North America                        US       Casper   13   \n",
      "8772  North America                        US     Cheyenne   13   \n",
      "\n",
      "      AvgTemperature  AvgTemperatureCelsia  \n",
      "12              54.1                 12.28  \n",
      "42              84.1                 28.94  \n",
      "72              79.0                 26.11  \n",
      "102             79.6                 26.44  \n",
      "132             72.4                 22.44  \n",
      "...              ...                   ...  \n",
      "8652            32.6                  0.33  \n",
      "8682            30.0                 -1.11  \n",
      "8712            36.8                  2.67  \n",
      "8742            48.1                  8.94  \n",
      "8772            45.7                  7.61  \n",
      "\n",
      "[293 rows x 6 columns]\n"
     ]
    }
   ],
   "source": [
    "# Dotaz na řádky z 13. listopadu 2017 (sloupec Day musí mít hodnotu 13).\n",
    "print(temperature[temperature[\"Day\"] == 13])"
   ]
  },
  {
   "cell_type": "code",
   "execution_count": 28,
   "metadata": {},
   "outputs": [
    {
     "data": {
      "text/plain": [
       "(153, 6)"
      ]
     },
     "execution_count": 28,
     "metadata": {},
     "output_type": "execute_result"
    }
   ],
   "source": [
    "# Dotaz na řádky z 13. listopadu 2017 ze Spojených států amerických (sloupec Day musí mít hodnotu 13 a sloupec Country hodnotu US).\n",
    "# Výsledek dotazu si ulož do nové tabulky a použij ji jako vstup pro následující dotaz.\n",
    "nova_tabulka = (temperature[(temperature[\"Day\"] == 13) & (temperature[\"Country\"] == 'US')])\n",
    "nova_tabulka.shape"
   ]
  },
  {
   "cell_type": "code",
   "execution_count": 29,
   "metadata": {},
   "outputs": [
    {
     "name": "stdout",
     "output_type": "stream",
     "text": [
      "             Region Country          City  Day  AvgTemperature  \\\n",
      "4872  North America      US    Washington   13            45.2   \n",
      "4902  North America      US    Washington   13            45.2   \n",
      "7572  North America      US  Philadelphia   13            41.7   \n",
      "\n",
      "      AvgTemperatureCelsia  \n",
      "4872                  7.33  \n",
      "4902                  7.33  \n",
      "7572                  5.39  \n"
     ]
    }
   ],
   "source": [
    "# Pro data z předchozího dotazu napiš dotaz na řádky ve městech (sloupec City) Washington a Philadelphia.\n",
    "print(nova_tabulka[(nova_tabulka[\"City\"] == 'Washington') | (nova_tabulka[\"City\"] == 'Philadelphia')])"
   ]
  }
 ],
 "metadata": {
  "kernelspec": {
   "display_name": "Python 3",
   "language": "python",
   "name": "python3"
  },
  "language_info": {
   "codemirror_mode": {
    "name": "ipython",
    "version": 3
   },
   "file_extension": ".py",
   "mimetype": "text/x-python",
   "name": "python",
   "nbconvert_exporter": "python",
   "pygments_lexer": "ipython3",
   "version": "3.9.2"
  }
 },
 "nbformat": 4,
 "nbformat_minor": 2
}
